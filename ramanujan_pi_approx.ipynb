{
 "cells": [
  {
   "cell_type": "markdown",
   "metadata": {},
   "source": [
    "<img src=\"https://pbs.twimg.com/media/EWjp0c-XQAEqnNV?format=jpg&name=large\">"
   ]
  },
  {
   "cell_type": "code",
   "execution_count": 1,
   "metadata": {},
   "outputs": [],
   "source": [
    "# Ramanujan proved the above identity of pi\n",
    "# Going to see how fast it converges\n",
    "\n",
    "# initialize\n",
    "initial_state = \"3 + 1**2\""
   ]
  },
  {
   "cell_type": "code",
   "execution_count": 2,
   "metadata": {},
   "outputs": [],
   "source": [
    "x = initial_state"
   ]
  },
  {
   "cell_type": "code",
   "execution_count": 3,
   "metadata": {},
   "outputs": [],
   "source": [
    "\"\"\"\n",
    "This implementation relies on parsing the string version of the equation.\n",
    "It's a bit gross and OOMs around 46 levels deep.\n",
    "\n",
    "The problem is that it compiles the string and then below I\n",
    "evaluate it in one go, which for a sufficient amount of nesting \n",
    "causes an OOM; more scalable to compute iteratively and then return the \n",
    "final value.\n",
    "\"\"\"\n",
    "\n",
    "def get_final_term(eq): \n",
    "    return eq.rsplit(\" \")[-1].replace(\")\",\"\")\n",
    "\n",
    "def increment(eq, n):\n",
    "    \"\"\"\n",
    "    Starts with the initial equation and returns a Ramanujan \n",
    "    equation n levels deep.\n",
    "    \n",
    "    e.g. 3**2 --> (3**2 / (6 + 5**2)) would be 1 level deeper.\n",
    "    \"\"\"\n",
    "    for x in range(n):\n",
    "        last_term = get_final_term(eq)\n",
    "        new = \"(\" + last_term + \" / \" + \"(6 + \" + str(eval(last_term.split(\"**\")[0])+2) + \"**2))\"\n",
    "        new_eq = eq.replace(last_term, new)\n",
    "        eq = new_eq\n",
    "    \n",
    "    return eq"
   ]
  },
  {
   "cell_type": "code",
   "execution_count": 4,
   "metadata": {},
   "outputs": [],
   "source": [
    "# this works until n = 46, then OOMs\n",
    "pi_values = []\n",
    "for i in range(1,47):\n",
    "    pi_values.append(eval(increment(x,i)))"
   ]
  },
  {
   "cell_type": "code",
   "execution_count": 5,
   "metadata": {},
   "outputs": [
    {
     "data": {
      "text/plain": [
       "[3.066666666666667,\n",
       " 3.158974358974359,\n",
       " 3.1352380952380954,\n",
       " 3.1445605884630274,\n",
       " 3.1399806022756844,\n",
       " 3.1425620131502483,\n",
       " 3.1409656223815516,\n",
       " 3.142021107132669,\n",
       " 3.141287132741557,\n",
       " 3.1418180718490314,\n",
       " 3.14142163385186,\n",
       " 3.141725449633402,\n",
       " 3.1414874944915123,\n",
       " 3.14167733872275,\n",
       " 3.1415234565674885,\n",
       " 3.1416499190792724,\n",
       " 3.1415447277143715,\n",
       " 3.141633164706394,\n",
       " 3.1415581036454996,\n",
       " 3.141622356593885,\n",
       " 3.1415669318690465,\n",
       " 3.141615074779973,\n",
       " 3.141572991649825,\n",
       " 3.1416099910137154,\n",
       " 3.141577288289547,\n",
       " 3.1416063348426357,\n",
       " 3.141580419038635,\n",
       " 3.1416036384068993,\n",
       " 3.1415827539476537,\n",
       " 3.1416016064008514,\n",
       " 3.141584530625638,\n",
       " 3.1416000461694713,\n",
       " 3.141585906396939,\n",
       " 3.1415988283811638,\n",
       " 3.1415869882461043,\n",
       " 3.1415978640180477,\n",
       " 3.1415878506498456,\n",
       " 3.141597090445934,\n",
       " 3.1415885465407083,\n",
       " 3.141596462724349,\n",
       " 3.1415891142407353,\n",
       " 3.1415959480394657,\n",
       " 3.141589581957841,\n",
       " 3.1415955220520804,\n",
       " 3.141589970767855,\n",
       " 3.1415951664503057]"
      ]
     },
     "execution_count": 5,
     "metadata": {},
     "output_type": "execute_result"
    }
   ],
   "source": [
    "pi_values"
   ]
  },
  {
   "cell_type": "code",
   "execution_count": 26,
   "metadata": {},
   "outputs": [
    {
     "data": {
      "image/png": "[encoded data removed]",
      "text/plain": [
       "<Figure size 432x288 with 1 Axes>"
      ]
     },
     "metadata": {
      "needs_background": "light"
     },
     "output_type": "display_data"
    }
   ],
   "source": [
    "# See how it converges...\n",
    "\n",
    "import matplotlib\n",
    "import matplotlib.pyplot as plt\n",
    "import numpy as np\n",
    "\n",
    "# Going deeper into the levels\n",
    "y = pi_values[14:]\n",
    "x = range(15,47)\n",
    "\n",
    "fig, ax = plt.subplots()\n",
    "ax.plot(x,y)\n",
    "\n",
    "ax.set(xlabel='iteration', ylabel='pi',\n",
    "       title='Ramanujan pi approximation')\n",
    "ax.grid()\n",
    "\n",
    "plt.show()"
   ]
  },
  {
   "cell_type": "code",
   "execution_count": 27,
   "metadata": {},
   "outputs": [
    {
     "name": "stdout",
     "output_type": "stream",
     "text": [
      "3 + (1**2 / (6 + (3**2 / (6 + (5**2 / (6 + (7**2 / (6 + (9**2 / (6 + (11**2 / (6 + (13**2 / (6 + (15**2 / (6 + (17**2 / (6 + (19**2 / (6 + (21**2 / (6 + (23**2 / (6 + (25**2 / (6 + (27**2 / (6 + (29**2 / (6 + (31**2 / (6 + (33**2 / (6 + (35**2 / (6 + (37**2 / (6 + (39**2 / (6 + (41**2 / (6 + (43**2 / (6 + (45**2 / (6 + (47**2 / (6 + (49**2 / (6 + (51**2 / (6 + (53**2 / (6 + (55**2 / (6 + (57**2 / (6 + (59**2 / (6 + (61**2 / (6 + (63**2 / (6 + (65**2 / (6 + (67**2 / (6 + (69**2 / (6 + (71**2 / (6 + (73**2 / (6 + (75**2 / (6 + (77**2 / (6 + (79**2 / (6 + (81**2 / (6 + (83**2 / (6 + (85**2 / (6 + (87**2 / (6 + (89**2 / (6 + (91**2 / (6 + 93**2))))))))))))))))))))))))))))))))))))))))))))))))))))))))))))))))))))))))))))))))))))))))))))\n"
     ]
    }
   ],
   "source": [
    "print(increment(initial_state,46))"
   ]
  },
  {
   "cell_type": "code",
   "execution_count": 9,
   "metadata": {},
   "outputs": [
    {
     "data": {
      "text/plain": [
       "'\\nLevels\\n======\\n1/ 3 + 1**2\\n2/ 3 + (1**2 / (6 + 3**2))\\n3/ 3 + (1**2 / (6 + (3**2 / (6 + 5**2))))\\netc.\\n'"
      ]
     },
     "execution_count": 9,
     "metadata": {},
     "output_type": "execute_result"
    }
   ],
   "source": [
    "\"\"\"\n",
    "Levels\n",
    "======\n",
    "1/ 3 + 1**2\n",
    "2/ 3 + (1**2 / (6 + 3**2))\n",
    "3/ 3 + (1**2 / (6 + (3**2 / (6 + 5**2))))\n",
    "4/ 3 + (1**2 / (6 + (3**2 / (6 + (5**2 / (6 + 7**2))))))\n",
    "5/ 3 + (1**2 / (6 + (3**2 / (6 + (5**2 / (6 + (7**2 / (6 + 9**2))))))))\n",
    "etc.\n",
    "\"\"\""
   ]
  },
  {
   "cell_type": "code",
   "execution_count": 58,
   "metadata": {},
   "outputs": [
    {
     "name": "stdout",
     "output_type": "stream",
     "text": [
      "3.1352380952380954\n"
     ]
    }
   ],
   "source": [
    "\"\"\"\n",
    "This doesn't work yet, but intention of this function is to \n",
    "compute it recursively.\n",
    "\"\"\"\n",
    "\n",
    "d = 5\n",
    "pi = 0\n",
    "while (d>3):\n",
    "    t = (d**2 / (6 + (d+2)**2))\n",
    "    x = (d - 2)**2 / (6 + t)\n",
    "    d -= 2\n",
    "pi = 3 + (1**2 / (6 + x))\n",
    "print(pi)"
   ]
  },
  {
   "cell_type": "code",
   "execution_count": 44,
   "metadata": {},
   "outputs": [
    {
     "data": {
      "text/plain": [
       "3.158974358974359"
      ]
     },
     "execution_count": 44,
     "metadata": {},
     "output_type": "execute_result"
    }
   ],
   "source": [
    "3 + (1**2 / (6 + (3**2 / (6 + 5**2))))"
   ]
  },
  {
   "cell_type": "code",
   "execution_count": 45,
   "metadata": {},
   "outputs": [
    {
     "data": {
      "text/plain": [
       "3.066666666666667"
      ]
     },
     "execution_count": 45,
     "metadata": {},
     "output_type": "execute_result"
    }
   ],
   "source": [
    "3 + (1**2 / (6 + 3**2))"
   ]
  },
  {
   "cell_type": "code",
   "execution_count": 46,
   "metadata": {},
   "outputs": [
    {
     "data": {
      "text/plain": [
       "3.1352380952380954"
      ]
     },
     "execution_count": 46,
     "metadata": {},
     "output_type": "execute_result"
    }
   ],
   "source": [
    "3 + (1**2 / (6 + (3**2 / (6 + (5**2 / (6 + 7**2))))))"
   ]
  },
  {
   "cell_type": "code",
   "execution_count": 47,
   "metadata": {},
   "outputs": [
    {
     "data": {
      "text/plain": [
       "1.3943661971830987"
      ]
     },
     "execution_count": 47,
     "metadata": {},
     "output_type": "execute_result"
    }
   ],
   "source": [
    "(3**2 / (6 + (5**2 / (6 + 7**2))))"
   ]
  },
  {
   "cell_type": "code",
   "execution_count": 49,
   "metadata": {},
   "outputs": [
    {
     "data": {
      "text/plain": [
       "3.1445605884630274"
      ]
     },
     "execution_count": 49,
     "metadata": {},
     "output_type": "execute_result"
    }
   ],
   "source": [
    "3 + (1**2 / (6 + (3**2 / (6 + (5**2 / (6 + (7**2 / (6 + 9**2))))))))"
   ]
  },
  {
   "cell_type": "code",
   "execution_count": 50,
   "metadata": {},
   "outputs": [
    {
     "data": {
      "text/plain": [
       "0.9175147295125872"
      ]
     },
     "execution_count": 50,
     "metadata": {},
     "output_type": "execute_result"
    }
   ],
   "source": [
    "(3**2 / (6 + (5**2 / (6 + (7**2 / (6 + 9**2))))))"
   ]
  },
  {
   "cell_type": "code",
   "execution_count": null,
   "metadata": {},
   "outputs": [],
   "source": []
  }
 ],
 "metadata": {
  "kernelspec": {
   "display_name": "Python 3",
   "language": "python",
   "name": "python3"
  },
  "language_info": {
   "codemirror_mode": {
    "name": "ipython",
    "version": 3
   },
   "file_extension": ".py",
   "mimetype": "text/x-python",
   "name": "python",
   "nbconvert_exporter": "python",
   "pygments_lexer": "ipython3",
   "version": "3.7.0"
  }
 },
 "nbformat": 4,
 "nbformat_minor": 4
}
