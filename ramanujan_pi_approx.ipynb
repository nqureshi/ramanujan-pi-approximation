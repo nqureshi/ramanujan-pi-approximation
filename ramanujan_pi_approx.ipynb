{
 "cells": [
  {
   "cell_type": "markdown",
   "metadata": {},
   "source": [
    "<img src=\"https://pbs.twimg.com/media/EWjp0c-XQAEqnNV?format=jpg&name=large\">"
   ]
  },
  {
   "cell_type": "code",
   "execution_count": 1,
   "metadata": {},
   "outputs": [],
   "source": [
    "# Ramanujan proved the above identity of pi\n",
    "# Going to see how fast it converges\n",
    "\n",
    "# initialize\n",
    "initial_state = \"3 + 1**2\""
   ]
  },
  {
   "cell_type": "code",
   "execution_count": 2,
   "metadata": {},
   "outputs": [],
   "source": [
    "x = initial_state"
   ]
  },
  {
   "cell_type": "code",
   "execution_count": 3,
   "metadata": {},
   "outputs": [],
   "source": [
    "\"\"\"\n",
    "My first attempt relies on parsing the string version of the equation.\n",
    "It's inefficient and OOMs around 46 levels deep. We can do better.\n",
    "\n",
    "The problem is that it compiles the string and then below I\n",
    "evaluate it in one go, which for a sufficient amount of nesting \n",
    "causes an OOM; more scalable to compute iteratively and then return the \n",
    "final value, done below.\n",
    "\"\"\"\n",
    "\n",
    "def get_final_term(eq): \n",
    "    return eq.rsplit(\" \")[-1].replace(\")\",\"\")\n",
    "\n",
    "def increment(eq, n):\n",
    "    \"\"\"\n",
    "    Starts with the initial equation and returns a Ramanujan \n",
    "    equation n levels deep.\n",
    "    \n",
    "    e.g. 3**2 --> (3**2 / (6 + 5**2)) would be 1 level deeper.\n",
    "    \"\"\"\n",
    "    for x in range(n):\n",
    "        last_term = get_final_term(eq)\n",
    "        new = \"(\" + last_term + \" / \" + \"(6 + \" + str(eval(last_term.split(\"**\")[0])+2) + \"**2))\"\n",
    "        new_eq = eq.replace(last_term, new)\n",
    "        eq = new_eq\n",
    "    \n",
    "    return eq"
   ]
  },
  {
   "cell_type": "code",
   "execution_count": 4,
   "metadata": {},
   "outputs": [],
   "source": [
    "# this works until n = 46, then OOMs\n",
    "pi_values = []\n",
    "for i in range(1,47):\n",
    "    pi_values.append(eval(increment(x,i)))"
   ]
  },
  {
   "cell_type": "code",
   "execution_count": 6,
   "metadata": {},
   "outputs": [
    {
     "data": {
      "image/png": "[encoded data removed]",
      "text/plain": [
       "<Figure size 432x288 with 1 Axes>"
      ]
     },
     "metadata": {
      "needs_background": "light"
     },
     "output_type": "display_data"
    }
   ],
   "source": [
    "# See how it converges...\n",
    "\n",
    "import matplotlib\n",
    "import matplotlib.pyplot as plt\n",
    "import numpy as np\n",
    "\n",
    "# Going deeper into the levels\n",
    "y = pi_values[14:]\n",
    "x = range(15,47)\n",
    "\n",
    "fig, ax = plt.subplots()\n",
    "ax.plot(x,y)\n",
    "\n",
    "ax.set(xlabel='iteration', ylabel='pi',\n",
    "       title='Ramanujan pi approximation')\n",
    "ax.grid()\n",
    "\n",
    "plt.show()"
   ]
  },
  {
   "cell_type": "code",
   "execution_count": 59,
   "metadata": {},
   "outputs": [
    {
     "name": "stdout",
     "output_type": "stream",
     "text": [
      "3 + (1**2 / (6 + (3**2 / (6 + (5**2 / (6 + (7**2 / (6 + (9**2 / (6 + (11**2 / (6 + (13**2 / (6 + (15**2 / (6 + (17**2 / (6 + (19**2 / (6 + (21**2 / (6 + (23**2 / (6 + (25**2 / (6 + (27**2 / (6 + (29**2 / (6 + (31**2 / (6 + (33**2 / (6 + (35**2 / (6 + (37**2 / (6 + (39**2 / (6 + (41**2 / (6 + (43**2 / (6 + (45**2 / (6 + (47**2 / (6 + (49**2 / (6 + (51**2 / (6 + (53**2 / (6 + (55**2 / (6 + (57**2 / (6 + (59**2 / (6 + (61**2 / (6 + (63**2 / (6 + (65**2 / (6 + (67**2 / (6 + (69**2 / (6 + (71**2 / (6 + (73**2 / (6 + (75**2 / (6 + (77**2 / (6 + (79**2 / (6 + (81**2 / (6 + (83**2 / (6 + (85**2 / (6 + (87**2 / (6 + (89**2 / (6 + (91**2 / (6 + 93**2))))))))))))))))))))))))))))))))))))))))))))))))))))))))))))))))))))))))))))))))))))))))))))\n"
     ]
    }
   ],
   "source": [
    "# Example of the string it's constructing, which is then evaluted...\n",
    "\n",
    "print(increment(initial_state,46))"
   ]
  },
  {
   "cell_type": "code",
   "execution_count": 8,
   "metadata": {},
   "outputs": [
    {
     "data": {
      "text/plain": [
       "'\\nLevels\\n======\\n1/ 3 + 1**2\\n2/ 3 + (1**2 / (6 + 3**2))\\n3/ 3 + (1**2 / (6 + (3**2 / (6 + 5**2))))\\n4/ 3 + (1**2 / (6 + (3**2 / (6 + (5**2 / (6 + 7**2))))))\\n5/ 3 + (1**2 / (6 + (3**2 / (6 + (5**2 / (6 + (7**2 / (6 + 9**2))))))))\\netc.\\n'"
      ]
     },
     "execution_count": 8,
     "metadata": {},
     "output_type": "execute_result"
    }
   ],
   "source": [
    "\"\"\"\n",
    "Levels (i.e. depth)\n",
    "======\n",
    "1/ 3 + 1**2\n",
    "2/ 3 + (1**2 / (6 + 3**2))\n",
    "3/ 3 + (1**2 / (6 + (3**2 / (6 + 5**2))))\n",
    "4/ 3 + (1**2 / (6 + (3**2 / (6 + (5**2 / (6 + 7**2))))))\n",
    "5/ 3 + (1**2 / (6 + (3**2 / (6 + (5**2 / (6 + (7**2 / (6 + 9**2))))))))\n",
    "etc.\n",
    "\"\"\""
   ]
  },
  {
   "cell_type": "code",
   "execution_count": 76,
   "metadata": {},
   "outputs": [
    {
     "data": {
      "text/plain": [
       "3.142021107132669"
      ]
     },
     "execution_count": 76,
     "metadata": {},
     "output_type": "execute_result"
    }
   ],
   "source": [
    "\"\"\"\n",
    "Second, proper attempt.\n",
    "This is far more efficient. Computes the function recursively. \n",
    "You tell it what depth you want the function computed to.\n",
    "It starts at the \"deepest\" level and then recurses its way \"up\".\n",
    "\"\"\"\n",
    "\n",
    "def recursive_method(d):\n",
    "    pi = 0\n",
    "    x = 0\n",
    "    \n",
    "    # depth must be odd number\n",
    "    if (d % 2 == 0):\n",
    "        d += 1\n",
    "    \n",
    "    # compute the deepest, most \"nested\" parens\n",
    "    result = (d**2 / (6 + (d+2)**2))\n",
    "    \n",
    "    # core loop; iterate \"upwards\" from the innermost parens\n",
    "    while (d>=5):\n",
    "        x = (d - 2)**2 / (6 + result)\n",
    "        d -= 2\n",
    "        result = x\n",
    "\n",
    "    pi = 3 + (1**2 / (6 + result))\n",
    "    return pi\n",
    "\n",
    "recursive_method(15)"
   ]
  },
  {
   "cell_type": "code",
   "execution_count": 77,
   "metadata": {},
   "outputs": [
    {
     "data": {
      "text/plain": [
       "True"
      ]
     },
     "execution_count": 77,
     "metadata": {},
     "output_type": "execute_result"
    }
   ],
   "source": [
    "## Test\n",
    "recursive_method(7) == 3 + (1**2 / (6 + (3**2 / (6 + (5**2 / (6 + (7**2 / (6 + 9**2))))))))"
   ]
  },
  {
   "cell_type": "code",
   "execution_count": 81,
   "metadata": {},
   "outputs": [],
   "source": [
    "pis = []\n",
    "iteration = range(0,20000,2)\n",
    "for x in (range(0,20000,2)):\n",
    "    pis.append(recursive_method(x))"
   ]
  },
  {
   "cell_type": "code",
   "execution_count": 89,
   "metadata": {},
   "outputs": [
    {
     "data": {
      "image/png": "[encoded data removed]",
      "text/plain": [
       "<Figure size 432x288 with 1 Axes>"
      ]
     },
     "metadata": {
      "needs_background": "light"
     },
     "output_type": "display_data"
    }
   ],
   "source": [
    "# See how it converges...\n",
    "\n",
    "import matplotlib\n",
    "import matplotlib.pyplot as plt\n",
    "import numpy as np\n",
    "\n",
    "# Going deeper into the levels\n",
    "y = pis[5000:6000]\n",
    "x = iteration[5000:6000]\n",
    "\n",
    "fig, ax = plt.subplots()\n",
    "ax.plot(x,y)\n",
    "\n",
    "ax.set(xlabel='iteration', ylabel='pi',\n",
    "       title='Ramanujan pi approximation')\n",
    "ax.grid()\n",
    "\n",
    "plt.show()"
   ]
  },
  {
   "cell_type": "code",
   "execution_count": 102,
   "metadata": {},
   "outputs": [
    {
     "name": "stdout",
     "output_type": "stream",
     "text": [
      "-0.00586080586080584\n",
      "-0.023736263736263474\n",
      "0.00932249322493206\n",
      "-0.00457998618734301\n",
      "0.002581410874563872\n",
      "-0.001596390768696665\n",
      "0.001055484751117497\n",
      "-0.0007339743911121133\n",
      "0.0005309391074743708\n",
      "-0.0003964379971712617\n",
      "0.00030381578154203837\n",
      "-0.00023795514188984512\n",
      "0.0001898442312375792\n",
      "-0.0001538821552613534\n",
      "0.0001264625117838314\n",
      "-0.00010519136490083625\n",
      "8.843699202243371e-05\n",
      "-7.506106089438802e-05\n",
      "6.425294838541262e-05\n",
      "-5.5424724838548656e-05\n",
      "4.81429109266962e-05\n",
      "-4.208313014819609e-05\n",
      "3.699936389045533e-05\n",
      "-3.2702724168220954e-05\n",
      "2.9046553088551974e-05\n",
      "-2.5915804000575804e-05\n",
      "2.3219368264104645e-05\n",
      "-2.0884459245529285e-05\n",
      "1.8852453197659713e-05\n",
      "-1.7075775213371003e-05\n",
      "1.551554383327769e-05\n",
      "-1.4139772532395511e-05\n",
      "1.2921984224867344e-05\n",
      "-1.184013505950432e-05\n",
      "1.0875771943474888e-05\n",
      "-1.0013368202166362e-05\n",
      "9.2397960882451e-06\n",
      "-8.543905225533166e-06\n",
      "7.916183640599428e-06\n",
      "-7.348483613611734e-06\n",
      "6.833798730454532e-06\n",
      "-6.366081624520348e-06\n",
      "5.940094239154092e-06\n",
      "-5.551284225191466e-06\n",
      "5.195682450498396e-06\n",
      "-4.869817653574415e-06\n",
      "4.5706450766402895e-06\n",
      "-4.295486554894978e-06\n",
      "4.041980036006976e-06\n",
      "-3.8080368889303884e-06\n",
      "3.591805677771731e-06\n",
      "-3.391641319794303e-06\n",
      "3.206078742490348e-06\n",
      "-3.0338103136351435e-06\n",
      "2.873666451908008e-06\n",
      "-2.724598916259424e-06\n",
      "2.585666368570827e-06\n",
      "-2.4560218672142753e-06\n",
      "2.3349020055185576e-06\n",
      "-2.2216174548894685e-06\n",
      "2.115544710967754e-06\n",
      "-2.0161188754030945e-06\n",
      "1.9228273293592224e-06\n",
      "-1.8352041748492809e-06\n",
      "1.7528253390963755e-06\n",
      "-1.6753042593187217e-06\n",
      "1.6022880697796893e-06\n",
      "-1.5334542231570936e-06\n",
      "1.4685074920528507e-06\n",
      "-1.407177309786789e-06\n",
      "1.3492153994043576e-06\n",
      "-1.2943936589238092e-06\n",
      "1.2425022766215932e-06\n",
      "-1.1933480408288233e-06\n",
      "1.1467528273634287e-06\n",
      "-1.1025522441698854e-06\n",
      "1.060594410962068e-06\n",
      "-1.0207388623229008e-06\n",
      "9.828555596058663e-07\n",
      "-9.468239978716042e-07\n",
      "9.125324011982627e-07\n",
      "-8.798769939311057e-07\n",
      "8.48761339433679e-07\n",
      "-8.190957432319124e-07\n",
      "7.907967085607481e-07\n",
      "-7.637864412046724e-07\n",
      "7.379924027439699e-07\n",
      "-7.133468993281156e-07\n",
      "6.897867077526598e-07\n",
      "-6.672527370632508e-07\n",
      "6.45689714584563e-07\n",
      "-6.250459017032028e-07\n",
      "6.052728340755209e-07\n",
      "-5.863250813753496e-07\n",
      "5.681600279139332e-07\n",
      "-5.507376719116053e-07\n",
      "5.340204398684989e-07\n",
      "-5.179730164783791e-07\n",
      "5.025621878651521e-07\n"
     ]
    }
   ],
   "source": [
    "\"\"\"\n",
    "The Cauchy convergence criterion:\n",
    "\n",
    "a sequence whose elements become arbitrarily close to each other as the sequence progresses.\n",
    "More precisely, given any small positive distance, all but a finite number of elements of the \n",
    "sequence are less than that given distance from each other.\n",
    "\n",
    "A s\n",
    "\n",
    "Informally: if the difference between successive terms is getting smaller, the sequence \n",
    "is Cauchy convergent, which we can see from the below.\n",
    "\"\"\"\n",
    "\n",
    "for x in range(3,200,2):\n",
    "    print(recursive_method(x)-recursive_method(x-2))"
   ]
  },
  {
   "cell_type": "code",
   "execution_count": null,
   "metadata": {},
   "outputs": [],
   "source": []
  }
 ],
 "metadata": {
  "kernelspec": {
   "display_name": "Python 3",
   "language": "python",
   "name": "python3"
  },
  "language_info": {
   "codemirror_mode": {
    "name": "ipython",
    "version": 3
   },
   "file_extension": ".py",
   "mimetype": "text/x-python",
   "name": "python",
   "nbconvert_exporter": "python",
   "pygments_lexer": "ipython3",
   "version": "3.7.0"
  }
 },
 "nbformat": 4,
 "nbformat_minor": 4
}
