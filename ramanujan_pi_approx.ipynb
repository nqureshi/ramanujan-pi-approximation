{
 "cells": [
  {
   "cell_type": "markdown",
   "metadata": {},
   "source": [
    "<img src=\"https://pbs.twimg.com/media/EWjp0c-XQAEqnNV?format=jpg&name=large\">"
   ]
  },
  {
   "cell_type": "code",
   "execution_count": 1,
   "metadata": {},
   "outputs": [],
   "source": [
    "# Ramanujan proved the above identity; playing around with it...\n",
    "x = \"3 + 1**2\""
   ]
  },
  {
   "cell_type": "code",
   "execution_count": 2,
   "metadata": {},
   "outputs": [],
   "source": [
    "def increment(eq):\n",
    "    \"\"\"\n",
    "    Hacky string-parsing way of transforming:\n",
    "    3**2 --> (3**2 / (6 + 5**2))\n",
    "    \"\"\"\n",
    "    last_term = eq.rsplit(\" \")[-1].replace(\")\",\"\")\n",
    "    new = \"(\" + last_term + \" / \" + \"(6 + \" + str(eval(last_term[0])+2) + \"**2))\"\n",
    "    new_eq = eq.replace(last_term, new)\n",
    "    return new_eq"
   ]
  },
  {
   "cell_type": "code",
   "execution_count": 4,
   "metadata": {},
   "outputs": [
    {
     "data": {
      "text/plain": [
       "3.1445605884630274"
      ]
     },
     "execution_count": 4,
     "metadata": {},
     "output_type": "execute_result"
    }
   ],
   "source": [
    "eval(increment(increment(increment(increment(x)))))"
   ]
  },
  {
   "cell_type": "code",
   "execution_count": null,
   "metadata": {},
   "outputs": [],
   "source": []
  }
 ],
 "metadata": {
  "kernelspec": {
   "display_name": "Python 3",
   "language": "python",
   "name": "python3"
  },
  "language_info": {
   "codemirror_mode": {
    "name": "ipython",
    "version": 3
   },
   "file_extension": ".py",
   "mimetype": "text/x-python",
   "name": "python",
   "nbconvert_exporter": "python",
   "pygments_lexer": "ipython3",
   "version": "3.7.0"
  }
 },
 "nbformat": 4,
 "nbformat_minor": 4
}
